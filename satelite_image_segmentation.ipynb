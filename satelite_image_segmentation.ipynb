{
 "cells": [
  {
   "cell_type": "code",
   "execution_count": 3,
   "metadata": {},
   "outputs": [],
   "source": [
    "import os\n",
    "import cv2\n",
    "import numpy as np\n",
    "from PIL import Image\n",
    "from matplotlib import pyplot as plt\n",
    "\n",
    "from sklearn.preprocessing import MinMaxScaler, StandardScaler\n",
    "\n",
    "\n",
    "from patchify import patchify"
   ]
  },
  {
   "cell_type": "code",
   "execution_count": 11,
   "metadata": {},
   "outputs": [],
   "source": [
    "data_dir = 'Semantic_segmentation_dataset/'\n",
    "patch_size = 256"
   ]
  },
  {
   "cell_type": "code",
   "execution_count": 7,
   "metadata": {},
   "outputs": [],
   "source": [
    "def load_patch_images(image_dataset):\n",
    "    for path, subdirs, files in os.walk(data_dir):\n",
    "\n",
    "        directory_name = path.split(os.path.sep)[-1]\n",
    "        if directory_name == 'images':\n",
    "            images = os.listdir(path)\n",
    "            for i, image_name in enumerate(images):  \n",
    "                if image_name.endswith(\".jpg\"):\n",
    "                \n",
    "                    image = cv2.imread(path+\"/\"+image_name, 1)\n",
    "                    X_shape = (image.shape[1]//patch_size)*patch_size\n",
    "                    Y_shape = (image.shape[0]//patch_size)*patch_size\n",
    "\n",
    "                    image = Image.fromarray(image)\n",
    "                    image = image.crop((0 ,0, SIZE_X, SIZE_Y))\n",
    "                    image = np.array(image)\n",
    "\n",
    "                    patch_img = patchify(image, (patch_size, patch_size, 3), step=patch_size)\n",
    "\n",
    "                    for i in range(patch_img.shape[0]):\n",
    "                        for j in range(patch_img.shape[1]):\n",
    "                            single_patch_img = patches_img[i,j,:,:]\n",
    "                            single_patch_img = scaler.fit_transform(single_patch_img.reshape(-1, single_patch_img.shape[-1])).reshape(single_patch_img.shape)                        \n",
    "                            single_patch_img = single_patch_img[0]\n",
    "                            image_dataset.append(single_patch_img)\n",
    "\n",
    "    return image_dataset\n",
    "                    \n"
   ]
  },
  {
   "cell_type": "code",
   "execution_count": 5,
   "metadata": {},
   "outputs": [],
   "source": [
    "def load_patch_masks(mask_dataset):\n",
    "    for path, subdirs, files in os.walk(data_dir):\n",
    "\n",
    "        directory_name = path.split(os.path.sep)[-1]\n",
    "        if directory_name == 'images':\n",
    "            masks = os.listdir(path)\n",
    "            for i, mask_name in enumerate(masks):  \n",
    "                if mask_name.endswith(\".png\"):\n",
    "                \n",
    "                    mask = cv2.imread(path+\"/\"+mask_name, 1)\n",
    "                    X_shape = (mask.shape[1]//patch_size)*patch_size\n",
    "                    Y_shape = (mask.shape[0]//patch_size)*patch_size\n",
    "\n",
    "                    mask = Image.fromarray(mask)\n",
    "                    mask = mask.crop((0 ,0, SIZE_X, SIZE_Y))\n",
    "                    mask = np.array(mask)\n",
    "\n",
    "                    patch_img = patchify(mask, (patch_size, patch_size, 3), step=patch_size)\n",
    "\n",
    "                    for i in range(patch_img.shape[0]):\n",
    "                        for j in range(patch_img.shape[1]):\n",
    "                            single_patch_img = patches_img[i,j,:,:]\n",
    "                            single_patch_img = scaler.fit_transform(single_patch_img.reshape(-1, single_patch_img.shape[-1])).reshape(single_patch_img.shape)                        \n",
    "                            single_patch_img = single_patch_img[0]\n",
    "                            mask_dataset.append(single_patch_img)\n",
    "\n",
    "    return mask_dataset"
   ]
  }
 ],
 "metadata": {
  "interpreter": {
   "hash": "042f1467ab0111aa983a1a2722ed4e9691068ebac51e10c18c39c936081e164b"
  },
  "kernelspec": {
   "display_name": "Python 3.10.2 64-bit (windows store)",
   "language": "python",
   "name": "python3"
  },
  "language_info": {
   "codemirror_mode": {
    "name": "ipython",
    "version": 3
   },
   "file_extension": ".py",
   "mimetype": "text/x-python",
   "name": "python",
   "nbconvert_exporter": "python",
   "pygments_lexer": "ipython3",
   "version": "3.10.2"
  },
  "orig_nbformat": 4
 },
 "nbformat": 4,
 "nbformat_minor": 2
}
